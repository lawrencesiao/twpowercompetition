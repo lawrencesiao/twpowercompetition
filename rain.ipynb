{
 "cells": [
  {
   "cell_type": "code",
   "execution_count": 1,
   "metadata": {},
   "outputs": [],
   "source": [
    "import pandas as pd\n",
    "import numpy as np\n",
    "import shapefile #pip install pyshp\n",
    "from geopy.distance import vincenty\n",
    "from sklearn.cluster import MiniBatchKMeans\n",
    "from sklearn.cluster import KMeans\n",
    "import glob\n",
    "import os"
   ]
  },
  {
   "cell_type": "code",
   "execution_count": 2,
   "metadata": {},
   "outputs": [],
   "source": [
    "path = 'D:\\\\Users\\\\Qoo\\\\Desktop\\\\taipower\\\\data\\\\'"
   ]
  },
  {
   "cell_type": "code",
   "execution_count": 3,
   "metadata": {},
   "outputs": [],
   "source": [
    "rain = pd.read_csv(path + 'rain.csv',encoding='big5')\n",
    "df_1107 = pd.read_csv(path+ 'df_1107.csv')"
   ]
  },
  {
   "cell_type": "code",
   "execution_count": 5,
   "metadata": {},
   "outputs": [
    {
     "data": {
      "text/plain": [
       "Index([      u'Unnamed: 0',    u'accu_end_time',       u'accu_value',\n",
       "                    u'num',             u'stno',          u'stntype',\n",
       "       u'typhoon_cht_name',     u'typhoon_name',          u'typhoon',\n",
       "                    u'day',               u'ts',         u'pre_avg3',\n",
       "              u'pre_accu3',        u'pre_accu6',       u'pre_accu12',\n",
       "               u'pre_max3',         u'pre_max6',        u'pre_max12',\n",
       "              u'pre_mean3',        u'pre_mean6',       u'pre_mean12'],\n",
       "      dtype='object')"
      ]
     },
     "execution_count": 5,
     "metadata": {},
     "output_type": "execute_result"
    }
   ],
   "source": [
    "rain.columns"
   ]
  },
  {
   "cell_type": "code",
   "execution_count": null,
   "metadata": {},
   "outputs": [],
   "source": [
    "#rain.iloc[0:10,[1,2,3,4,8,11,12,13,14,15,16,17,18,19,20]]"
   ]
  },
  {
   "cell_type": "code",
   "execution_count": 9,
   "metadata": {},
   "outputs": [],
   "source": [
    "#平均3小時雨量\n",
    "mean_rain_3hr = rain.groupby(['stno','typhoon'],as_index=False).agg({u'pre_accu3':'mean'})\n",
    "mean_rain_3hr.columns.values[2] = 'mean_accu_3hour_rain'\n",
    "#平均6小時雨量\n",
    "mean_rain_6hr = rain.groupby(['stno','typhoon'],as_index=False).agg({u'pre_accu6':'mean'})\n",
    "mean_rain_6hr.columns.values[2] = 'mean_accu_6hour_rain'\n",
    "#平均12小時雨量\n",
    "mean_rain_12hr = rain.groupby(['stno','typhoon'],as_index=False).agg({u'pre_accu12':'mean'})\n",
    "mean_rain_12hr.columns.values[2] = 'mean_accu_12hour_rain'\n",
    "#最大3小時雨量\n",
    "max_rain_3hr = rain.groupby(['stno','typhoon'],as_index=False).agg({u'pre_accu3':'max'})\n",
    "max_rain_3hr.columns.values[2] = 'max_accu_3hour_rain'\n",
    "#最大6小時雨量\n",
    "max_rain_6hr = rain.groupby(['stno','typhoon'],as_index=False).agg({u'pre_accu6':'max'})\n",
    "max_rain_6hr.columns.values[2] = 'max_accu_6hour_rain'\n",
    "#最大12小時雨量\n",
    "max_rain_12hr = rain.groupby(['stno','typhoon'],as_index=False).agg({u'pre_accu12':'max'})\n",
    "max_rain_12hr.columns.values[2] = 'max_accu_12hour_rain'\n",
    "\n",
    "#達到幾次豪雨指標(三小時累積降雨 100MM以上)\n",
    "how_rain_times2 = rain.loc[rain.pre_accu3 >= 100,:].groupby(['stno','typhoon'],as_index=False).agg({u'pre_accu3':'count'})\n",
    "how_rain_times2.columns.values[2] = 'how_rain_count_rule2'"
   ]
  },
  {
   "cell_type": "code",
   "execution_count": 10,
   "metadata": {},
   "outputs": [],
   "source": [
    "df_1107 = pd.merge(df_1107, mean_rain_3hr, how='left', on=['stno','typhoon'])\n",
    "df_1107 = pd.merge(df_1107, mean_rain_6hr, how='left', on=['stno','typhoon'])\n",
    "df_1107 = pd.merge(df_1107, mean_rain_12hr, how='left', on=['stno','typhoon'])\n",
    "df_1107 = pd.merge(df_1107, max_rain_3hr, how='left', on=['stno','typhoon'])\n",
    "df_1107 = pd.merge(df_1107, max_rain_6hr, how='left', on=['stno','typhoon'])\n",
    "df_1107 = pd.merge(df_1107, max_rain_12hr, how='left', on=['stno','typhoon'])\n",
    "df_1107 = pd.merge(df_1107, how_rain_times2, how='left', on=['stno','typhoon'])"
   ]
  },
  {
   "cell_type": "code",
   "execution_count": 13,
   "metadata": {},
   "outputs": [
    {
     "name": "stdout",
     "output_type": "stream",
     "text": [
      "92\n"
     ]
    }
   ],
   "source": [
    "print len(df_1107.columns.values)"
   ]
  },
  {
   "cell_type": "code",
   "execution_count": 16,
   "metadata": {},
   "outputs": [],
   "source": [
    "#補值\n",
    "df_1107v2 = pd.concat([ df_1107.iloc[:,0:85], df_1107.iloc[:,85:].fillna(0)],axis=1)"
   ]
  },
  {
   "cell_type": "code",
   "execution_count": 17,
   "metadata": {},
   "outputs": [],
   "source": [
    "df_1107v2.to_csv(path+'df_1107v2.csv')"
   ]
  }
 ],
 "metadata": {
  "kernelspec": {
   "display_name": "Python 2",
   "language": "python",
   "name": "python2"
  },
  "language_info": {
   "codemirror_mode": {
    "name": "ipython",
    "version": 2
   },
   "file_extension": ".py",
   "mimetype": "text/x-python",
   "name": "python",
   "nbconvert_exporter": "python",
   "pygments_lexer": "ipython2",
   "version": "2.7.14"
  }
 },
 "nbformat": 4,
 "nbformat_minor": 2
}
