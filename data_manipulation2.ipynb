{
 "cells": [
  {
   "cell_type": "code",
   "execution_count": 2,
   "metadata": {
    "collapsed": true
   },
   "outputs": [],
   "source": [
    "import pandas as pd\n",
    "import numpy as np\n",
    "import shapefile #pip install pyshp\n",
    "from geopy.distance import vincenty\n",
    "from sklearn.cluster import MiniBatchKMeans\n",
    "from sklearn.cluster import KMeans\n",
    "import glob\n",
    "import os"
   ]
  },
  {
   "cell_type": "code",
   "execution_count": 3,
   "metadata": {
    "collapsed": true
   },
   "outputs": [],
   "source": [
    "path = 'D:/Users/Qoo/Desktop/taipower/data/'"
   ]
  },
  {
   "cell_type": "code",
   "execution_count": 3,
   "metadata": {
    "collapsed": true
   },
   "outputs": [],
   "source": [
    "#匯入觀測站經緯度資料\n",
    "obs_station = pd.read_csv(path + 'obs_station/obs_intro.csv',encoding='big5',usecols=[0,1,2,3,4,5,6])\n",
    "old_names = list(obs_station.columns)\n",
    "new_names = ['stno','stname','st_height','st_lon','st_lat','st_city','st_address']\n",
    "obs_station.rename(columns=dict(zip(old_names,new_names)),inplace=True)\n",
    "obs_station.stno = obs_station.stno.str.encode('big5')"
   ]
  },
  {
   "cell_type": "code",
   "execution_count": 5,
   "metadata": {},
   "outputs": [
    {
     "name": "stdout",
     "output_type": "stream",
     "text": [
      "6993\n"
     ]
    }
   ],
   "source": [
    "#匯入觀測站颱風雨量資料\n",
    "all_files = glob.glob(os.path.join(path+'typhoon_rain/','*.csv'))\n",
    "for file in all_files:\n",
    "    try:\n",
    "        pd.read_csv(file,encoding='big5',usecols=[0,1,2,3])\n",
    "    except:\n",
    "        print 'error at %s' %file\n",
    "\n",
    "tp_rain = pd.concat(pd.read_csv(file,encoding='big5') for file in all_files )\n",
    "tp_rain['stno'] = tp_rain['stno'].astype('str')\n",
    "tp_rain['typhoon'] =  tp_rain['typhoon_name'].str[4:]\n",
    "tp_rain.accu_end_time = pd.to_datetime(tp_rain.accu_end_time)\n",
    "tp_rain['day'] = tp_rain.accu_end_time.dt.day\n",
    "#tp_rain2 = pd.merge(tp_rain,obs_station,how='left',on='stno')\n",
    "tp_rain.loc[tp_rain.typhoon =='MERANTI','typhoon'] = 'MERANTIANDMALAKAS'\n",
    "tp_rain.loc[tp_rain.typhoon =='MALAKAS','typhoon'] = 'MERANTIANDMALAKAS'\n",
    "tp_rain.loc[tp_rain.typhoon =='NESAT','typhoon'] = 'NESATANDHAITANG'\n",
    "tp_rain.loc[tp_rain.typhoon =='HAITANG','typhoon'] = 'NESATANDHAITANG'\n",
    "print len(tp_rain)\n",
    "#print len(tp_rain2)\n",
    "\n",
    "#檢查是否有缺漏的站\n",
    "#key = tp_rain2.stname.isnull()\n",
    "#tp_rain2[key].stno.value_counts()"
   ]
  },
  {
   "cell_type": "code",
   "execution_count": 6,
   "metadata": {
    "collapsed": true
   },
   "outputs": [],
   "source": [
    "tp_rain.to_csv(path +'tp_rain.csv',encoding='big5')"
   ]
  },
  {
   "cell_type": "code",
   "execution_count": 7,
   "metadata": {
    "collapsed": true
   },
   "outputs": [],
   "source": [
    "#讀取村里邊界經緯度\n",
    "def read_shapefile(shp_path):\n",
    "\t\"\"\"\n",
    "\tRead a shapefile into a Pandas dataframe with a 'coords' column holding\n",
    "\tthe geometry information. This uses the pyshp package\n",
    "\t\"\"\"\n",
    "\timport shapefile\n",
    "\n",
    "\t#read file, parse out the records and shapes\n",
    "\tsf = shapefile.Reader(shp_path)\n",
    "\tfields = [x[0] for x in sf.fields][1:]\n",
    "\trecords = sf.records()\n",
    "\tshps = [s.points for s in sf.shapes()]\n",
    "\n",
    "\t#write into a dataframe\n",
    "\tdf = pd.DataFrame(columns=fields, data=records)\n",
    "\tdf = df.assign(coords=shps)\n",
    "\n",
    "\treturn df\n",
    "\n",
    "vil_latlon = read_shapefile(path + \"village_latlon/VILLAGE_MOI_1060831.shp\")\n",
    "\n",
    "#計算城鎮中心點經緯度\n",
    "for element in range(0,len(vil_latlon)):\n",
    "    vil_latlon.loc[element,'vil_lon'] = pd.DataFrame(vil_latlon.coords[element]).mean()[0]\n",
    "    vil_latlon.loc[element,'vil_lat'] = pd.DataFrame(vil_latlon.coords[element]).mean()[1]\n",
    "    \n",
    "vil_latlon = vil_latlon.iloc[:,[0,1,2,3,11,12]]\n",
    "vil_latlon.loc[0,['VILLCODE','VILLNAME']] = ['10013030023','大鵬里']\n",
    "vil_latlon = vil_latlon.loc[vil_latlon.VILLNAME !='',:]\n",
    "vil_latlon = vil_latlon.reset_index(drop=True)\n",
    "vil_latlon.to_csv(path+'vil_raw_intro.csv')"
   ]
  },
  {
   "cell_type": "code",
   "execution_count": 8,
   "metadata": {
    "collapsed": true
   },
   "outputs": [],
   "source": [
    "#匯入先前已整理好之資料\n",
    "df = pd.read_csv(path + 'df.csv')"
   ]
  },
  {
   "cell_type": "code",
   "execution_count": 9,
   "metadata": {},
   "outputs": [
    {
     "data": {
      "text/html": [
       "<div>\n",
       "<style>\n",
       "    .dataframe thead tr:only-child th {\n",
       "        text-align: right;\n",
       "    }\n",
       "\n",
       "    .dataframe thead th {\n",
       "        text-align: left;\n",
       "    }\n",
       "\n",
       "    .dataframe tbody tr th {\n",
       "        vertical-align: top;\n",
       "    }\n",
       "</style>\n",
       "<table border=\"1\" class=\"dataframe\">\n",
       "  <thead>\n",
       "    <tr style=\"text-align: right;\">\n",
       "      <th></th>\n",
       "      <th>VILLCODE</th>\n",
       "      <th>COUNTYNAME</th>\n",
       "      <th>TOWNNAME</th>\n",
       "      <th>VILLNAME</th>\n",
       "      <th>vil_lon</th>\n",
       "      <th>vil_lat</th>\n",
       "      <th>stno</th>\n",
       "      <th>stname</th>\n",
       "      <th>st_height</th>\n",
       "      <th>st_lon</th>\n",
       "      <th>st_lat</th>\n",
       "      <th>st_city</th>\n",
       "    </tr>\n",
       "  </thead>\n",
       "  <tbody>\n",
       "  </tbody>\n",
       "</table>\n",
       "</div>"
      ],
      "text/plain": [
       "Empty DataFrame\n",
       "Columns: [VILLCODE, COUNTYNAME, TOWNNAME, VILLNAME, vil_lon, vil_lat, stno, stname, st_height, st_lon, st_lat, st_city]\n",
       "Index: []"
      ]
     },
     "execution_count": 9,
     "metadata": {},
     "output_type": "execute_result"
    }
   ],
   "source": [
    "#為每個村里找出所屬的(最近的)觀測站\n",
    "obs_station.loc[:,'st_lonlat'] = obs_station.loc[:,['st_lon','st_lat']].apply(tuple,axis=1)\n",
    "vil_latlon.loc[:,'vil_lonlat'] = vil_latlon.loc[:,['vil_lon','vil_lat']].apply(tuple,axis=1)\n",
    "\n",
    "#刪除用不到之測站\n",
    "obs_station = obs_station[0:33]\n",
    "\n",
    "#回傳最短距離測站的index\n",
    "def closest(point, points):\n",
    "    distance = [vincenty(point, i).miles for i in points]\n",
    "    return distance.index(min(distance))\n",
    "'''\n",
    "point = (121,25)\n",
    "points = [(124,42),(132,22),(120,55)]\n",
    "distance = [vincenty(point, i).miles for i in points]\n",
    "distance.index(min(distance))\n",
    "'''\n",
    "for i in range(0,len(vil_latlon)):\n",
    "    vil_latlon.loc[i,'stno_index'] = closest(vil_latlon.loc[i,'vil_lonlat'], obs_station.loc[:,'st_lonlat'])\n",
    "obs_station.loc[:,'stno_index'] = obs_station.index\n",
    "vil_latlon2 = pd.merge(vil_latlon, obs_station, how='left', on='stno_index')\n",
    "vil_latlon2 = vil_latlon2.iloc[:,[0,1,2,3,4,5,8,9,10,11,12,13]]\n",
    "vil_latlon2.to_csv(path +'village_intro.csv',encoding='utf-8')\n",
    "\n",
    "#檢查是否有無對應的地區與測站\n",
    "key = vil_latlon2.stno.isnull()\n",
    "vil_latlon2[key]"
   ]
  },
  {
   "cell_type": "code",
   "execution_count": 11,
   "metadata": {
    "collapsed": true
   },
   "outputs": [],
   "source": [
    "#將訓練資料與地區對應的測站合併\n",
    "for i in range(0,len(vil_latlon2)):\n",
    "    if vil_latlon2.loc[i,'VILLCODE'][3:5] =='00':\n",
    "        vil_latlon2.loc[i,'VilCode'] = vil_latlon2.loc[i,'VILLCODE'][0:3] +  vil_latlon2.loc[i,'VILLCODE'][5:7] + '00-'+  vil_latlon2.loc[i,'VILLCODE'][8:11]\n",
    "    else:\n",
    "        vil_latlon2.loc[i,'VilCode'] = vil_latlon2.loc[i,'VILLCODE'][0:7] +  '-'+  vil_latlon2.loc[i,'VILLCODE'][8:11]\n"
   ]
  },
  {
   "cell_type": "code",
   "execution_count": 12,
   "metadata": {
    "collapsed": true
   },
   "outputs": [],
   "source": [
    "df2 = pd.merge(df,vil_latlon2,how='left', on='VilCode')"
   ]
  },
  {
   "cell_type": "code",
   "execution_count": 13,
   "metadata": {
    "collapsed": true
   },
   "outputs": [],
   "source": [
    "df2.to_csv(path +'df2.csv',encoding='utf-8')"
   ]
  },
  {
   "cell_type": "code",
   "execution_count": 14,
   "metadata": {},
   "outputs": [
    {
     "data": {
      "text/html": [
       "<div>\n",
       "<style>\n",
       "    .dataframe thead tr:only-child th {\n",
       "        text-align: right;\n",
       "    }\n",
       "\n",
       "    .dataframe thead th {\n",
       "        text-align: left;\n",
       "    }\n",
       "\n",
       "    .dataframe tbody tr th {\n",
       "        vertical-align: top;\n",
       "    }\n",
       "</style>\n",
       "<table border=\"1\" class=\"dataframe\">\n",
       "  <thead>\n",
       "    <tr style=\"text-align: right;\">\n",
       "      <th></th>\n",
       "      <th>CityName</th>\n",
       "      <th>TownName</th>\n",
       "      <th>VilName</th>\n",
       "      <th>0</th>\n",
       "    </tr>\n",
       "  </thead>\n",
       "  <tbody>\n",
       "  </tbody>\n",
       "</table>\n",
       "</div>"
      ],
      "text/plain": [
       "Empty DataFrame\n",
       "Columns: [CityName, TownName, VilName, 0]\n",
       "Index: []"
      ]
     },
     "execution_count": 14,
     "metadata": {},
     "output_type": "execute_result"
    }
   ],
   "source": [
    "#找出沒有對應到的區域\n",
    "key = df2.stno.isnull()\n",
    "miss = df2[key]\n",
    "miss.groupby(['CityName','TownName','VilName']).size().reset_index()"
   ]
  },
  {
   "cell_type": "code",
   "execution_count": 16,
   "metadata": {},
   "outputs": [
    {
     "name": "stdout",
     "output_type": "stream",
     "text": [
      "set([])\n"
     ]
    }
   ],
   "source": [
    "# df 多出 大鵬里\n",
    "print set(df.VilCode) - set(vil_latlon2.VilCode)\n",
    "#df.loc[df.VilCode=='1001303-023',:]"
   ]
  },
  {
   "cell_type": "code",
   "execution_count": 17,
   "metadata": {},
   "outputs": [
    {
     "name": "stdout",
     "output_type": "stream",
     "text": [
      "set(['1000401-031'])\n"
     ]
    },
    {
     "data": {
      "text/html": [
       "<div>\n",
       "<style>\n",
       "    .dataframe thead tr:only-child th {\n",
       "        text-align: right;\n",
       "    }\n",
       "\n",
       "    .dataframe thead th {\n",
       "        text-align: left;\n",
       "    }\n",
       "\n",
       "    .dataframe tbody tr th {\n",
       "        vertical-align: top;\n",
       "    }\n",
       "</style>\n",
       "<table border=\"1\" class=\"dataframe\">\n",
       "  <thead>\n",
       "    <tr style=\"text-align: right;\">\n",
       "      <th></th>\n",
       "      <th>VILLCODE</th>\n",
       "      <th>COUNTYNAME</th>\n",
       "      <th>TOWNNAME</th>\n",
       "      <th>VILLNAME</th>\n",
       "      <th>vil_lon</th>\n",
       "      <th>vil_lat</th>\n",
       "      <th>stno</th>\n",
       "      <th>stname</th>\n",
       "      <th>st_height</th>\n",
       "      <th>st_lon</th>\n",
       "      <th>st_lat</th>\n",
       "      <th>st_city</th>\n",
       "      <th>VilCode</th>\n",
       "    </tr>\n",
       "  </thead>\n",
       "  <tbody>\n",
       "    <tr>\n",
       "      <th>7823</th>\n",
       "      <td>10004010031</td>\n",
       "      <td>新竹縣</td>\n",
       "      <td>竹北市</td>\n",
       "      <td>中崙里</td>\n",
       "      <td>121.003926</td>\n",
       "      <td>24.821014</td>\n",
       "      <td>467571</td>\n",
       "      <td>新竹</td>\n",
       "      <td>26.9</td>\n",
       "      <td>121.0142</td>\n",
       "      <td>24.8279</td>\n",
       "      <td>新竹縣</td>\n",
       "      <td>1000401-031</td>\n",
       "    </tr>\n",
       "  </tbody>\n",
       "</table>\n",
       "</div>"
      ],
      "text/plain": [
       "         VILLCODE COUNTYNAME TOWNNAME VILLNAME     vil_lon    vil_lat    stno  \\\n",
       "7823  10004010031        新竹縣      竹北市      中崙里  121.003926  24.821014  467571   \n",
       "\n",
       "     stname  st_height    st_lon   st_lat st_city      VilCode  \n",
       "7823     新竹       26.9  121.0142  24.8279     新竹縣  1000401-031  "
      ]
     },
     "execution_count": 17,
     "metadata": {},
     "output_type": "execute_result"
    }
   ],
   "source": [
    "# vil_latlon 多出 中崙里\n",
    "print set(vil_latlon2.VilCode) - set(df.VilCode)\n",
    "vil_latlon2.loc[vil_latlon2.VilCode =='1000401-031',:]"
   ]
  },
  {
   "cell_type": "code",
   "execution_count": 18,
   "metadata": {},
   "outputs": [
    {
     "name": "stdout",
     "output_type": "stream",
     "text": [
      "31\n",
      "33\n",
      "set(['467790', '466850'])\n",
      "set([])\n"
     ]
    },
    {
     "data": {
      "text/html": [
       "<div>\n",
       "<style>\n",
       "    .dataframe thead tr:only-child th {\n",
       "        text-align: right;\n",
       "    }\n",
       "\n",
       "    .dataframe thead th {\n",
       "        text-align: left;\n",
       "    }\n",
       "\n",
       "    .dataframe tbody tr th {\n",
       "        vertical-align: top;\n",
       "    }\n",
       "</style>\n",
       "<table border=\"1\" class=\"dataframe\">\n",
       "  <thead>\n",
       "    <tr style=\"text-align: right;\">\n",
       "      <th></th>\n",
       "      <th>stno</th>\n",
       "      <th>stname</th>\n",
       "      <th>st_height</th>\n",
       "      <th>st_lon</th>\n",
       "      <th>st_lat</th>\n",
       "      <th>st_city</th>\n",
       "      <th>st_address</th>\n",
       "      <th>st_lonlat</th>\n",
       "      <th>stno_index</th>\n",
       "    </tr>\n",
       "  </thead>\n",
       "  <tbody>\n",
       "    <tr>\n",
       "      <th>0</th>\n",
       "      <td>466850</td>\n",
       "      <td>五分山雷達站</td>\n",
       "      <td>756.0</td>\n",
       "      <td>121.7812</td>\n",
       "      <td>25.0712</td>\n",
       "      <td>新北市</td>\n",
       "      <td>瑞芳區靜安路四段1巷1號</td>\n",
       "      <td>(121.7812, 25.0712)</td>\n",
       "      <td>0</td>\n",
       "    </tr>\n",
       "    <tr>\n",
       "      <th>30</th>\n",
       "      <td>467790</td>\n",
       "      <td>墾丁雷達站</td>\n",
       "      <td>42.0</td>\n",
       "      <td>120.8080</td>\n",
       "      <td>21.9482</td>\n",
       "      <td>屏東縣</td>\n",
       "      <td>恆春鎮燈塔路51巷33號</td>\n",
       "      <td>(120.808, 21.9482)</td>\n",
       "      <td>30</td>\n",
       "    </tr>\n",
       "  </tbody>\n",
       "</table>\n",
       "</div>"
      ],
      "text/plain": [
       "      stno  stname  st_height    st_lon   st_lat st_city    st_address  \\\n",
       "0   466850  五分山雷達站      756.0  121.7812  25.0712     新北市  瑞芳區靜安路四段1巷1號   \n",
       "30  467790   墾丁雷達站       42.0  120.8080  21.9482     屏東縣  恆春鎮燈塔路51巷33號   \n",
       "\n",
       "              st_lonlat  stno_index  \n",
       "0   (121.7812, 25.0712)           0  \n",
       "30   (120.808, 21.9482)          30  "
      ]
     },
     "execution_count": 18,
     "metadata": {},
     "output_type": "execute_result"
    }
   ],
   "source": [
    "#檢查是否每一個測站都有記錄到雨量\n",
    "#兩處沒有記錄到降雨\n",
    "print len(np.unique(tp_rain.stno))\n",
    "print len(np.unique(df2.stno))\n",
    "print set(df2.stno) - set(tp_rain.stno)\n",
    "print set(tp_rain.stno) - set(df2.stno)\n",
    "obs_station.loc[(obs_station.stno =='467790')|(obs_station.stno =='466850'),:]"
   ]
  },
  {
   "cell_type": "code",
   "execution_count": 19,
   "metadata": {
    "collapsed": true
   },
   "outputs": [],
   "source": [
    "#不同颱風在各測站下的平均每小時累積雨量\n",
    "mean_hour_rain = tp_rain.groupby(['typhoon','stno'], as_index=False).agg({'accu_value':'mean'})\n",
    "mean_hour_rain.columns.values[2] = 'mean_accu_hour_rain'\n",
    "\n",
    "#不同颱風在各測站下的平均每日累積雨量\n",
    "mean_day_rain = tp_rain.groupby(['day','typhoon','stno'], as_index=False).agg({'accu_value':'sum'})\n",
    "mean_day_rain = mean_day_rain.groupby(['typhoon','stno'], as_index=False).agg({'accu_value':'mean'})\n",
    "mean_day_rain.columns.values[2] = 'mean_accu_day_rain'\n",
    "\n",
    "#不同颱風在各測站下總累積雨量\n",
    "total_rain = tp_rain.groupby(['typhoon','stno'], as_index=False).agg({'accu_value':'sum'})\n",
    "total_rain.columns.values[2] = 'accu_rain'\n",
    "\n",
    "#達到幾次大雨指標(每日累積降雨 80MM以上)\n",
    "heavy_rain = tp_rain.groupby(['day','typhoon','stno'], as_index=False).agg({'accu_value':'sum'})\n",
    "heavy_rain_times = heavy_rain.loc[heavy_rain.accu_value >= 80,:].groupby(['typhoon','stno'], \n",
    "                as_index=False).agg({'accu_value':'count'})\n",
    "heavy_rain_times.columns.values[2] = 'heavy_rain_count_rule1'\n",
    "\n",
    "#達到幾次大雨指標(每小時累積降雨 40MM以上)\n",
    "heavy_rain_times2 = tp_rain.loc[tp_rain.accu_value >=40,:].groupby(['typhoon','stno'],as_index=False).agg({'accu_value':'count'})\n",
    "heavy_rain_times2.columns.values[2] = 'heavy_rain_count_rule2'\n",
    "\n",
    "#達到幾次豪雨指標(每日累積降雨 200MM以上)\n",
    "how_rain = tp_rain.groupby(['day','typhoon','stno'], as_index=False).agg({'accu_value':'sum'})\n",
    "how_rain_times1 = how_rain.loc[how_rain.accu_value >= 200,:].groupby(['typhoon','stno'], \n",
    "                as_index=False).agg({'accu_value':'count'})\n",
    "how_rain_times1.columns.values[2] = 'how_rain_count_rule1'\n",
    "\n",
    "#達到幾次豪雨指標(三小時累積降雨 100MM以上)\n",
    "\n",
    "\n",
    "#達到幾次大豪雨指標(每日累積降雨 350MM以上)\n",
    "big_how_rain = tp_rain.groupby(['day','typhoon','stno'], as_index=False).agg({'accu_value':'sum'})\n",
    "big_how_rain_times = big_how_rain.loc[big_how_rain.accu_value >= 350,:].groupby(['typhoon','stno'], \n",
    "                as_index=False).agg({'accu_value':'count'})\n",
    "big_how_rain_times.columns.values[2] = 'big_how_rain_count'\n",
    "\n",
    "#達到幾次超大豪雨指標(每日累積降雨 500MM以上)\n",
    "big_big_how_rain = tp_rain.groupby(['day','typhoon','stno'], as_index=False).agg({'accu_value':'sum'})\n",
    "big_big_how_rain_times = big_big_how_rain.loc[big_big_how_rain.accu_value >= 500,:].groupby(['typhoon','stno'], \n",
    "                as_index=False).agg({'accu_value':'count'})\n",
    "big_big_how_rain_times.columns.values[2] = 'big_big_how_rain_count'\n",
    "\n",
    "#不同颱風在各測站下的每小時最大累積雨量\n",
    "max_hour_rain = tp_rain.groupby(['typhoon','stno'], as_index=False).agg({'accu_value':'max'})\n",
    "max_hour_rain.columns.values[2] = 'max_hour_accu_rain'\n",
    "#不同颱風在各測站下的每日最大累積雨量\n",
    "max_day_rain = tp_rain.groupby(['day','typhoon','stno'], as_index=False).agg({'accu_value':'sum'}).groupby(['typhoon','stno'], as_index=False).agg({'accu_value':'max'})\n",
    "max_day_rain.columns.values[2] = 'max_day_accu_rain'"
   ]
  },
  {
   "cell_type": "code",
   "execution_count": 20,
   "metadata": {
    "collapsed": true
   },
   "outputs": [],
   "source": [
    "df2 = pd.merge(df2, mean_hour_rain, on=['stno','typhoon'],how ='left')\n",
    "df2 = pd.merge(df2, mean_day_rain, on=['stno','typhoon'],how ='left')\n",
    "df2 = pd.merge(df2, total_rain, on=['stno','typhoon'],how ='left')\n",
    "df2 = pd.merge(df2, heavy_rain_times, on=['stno','typhoon'],how ='left')\n",
    "df2 = pd.merge(df2, heavy_rain_times2, on=['stno','typhoon'],how ='left')\n",
    "df2 = pd.merge(df2, how_rain_times1, on=['stno','typhoon'],how ='left')\n",
    "df2 = pd.merge(df2, big_how_rain_times, on=['stno','typhoon'],how ='left')\n",
    "df2 = pd.merge(df2, big_big_how_rain_times, on=['stno','typhoon'],how ='left')\n",
    "df2 = pd.merge(df2, max_hour_rain, on=['stno','typhoon'],how ='left')\n",
    "df2 = pd.merge(df2, max_day_rain, on=['stno','typhoon'],how ='left')"
   ]
  },
  {
   "cell_type": "code",
   "execution_count": 23,
   "metadata": {},
   "outputs": [
    {
     "data": {
      "text/html": [
       "<div>\n",
       "<style>\n",
       "    .dataframe thead tr:only-child th {\n",
       "        text-align: right;\n",
       "    }\n",
       "\n",
       "    .dataframe thead th {\n",
       "        text-align: left;\n",
       "    }\n",
       "\n",
       "    .dataframe tbody tr th {\n",
       "        vertical-align: top;\n",
       "    }\n",
       "</style>\n",
       "<table border=\"1\" class=\"dataframe\">\n",
       "  <thead>\n",
       "    <tr style=\"text-align: right;\">\n",
       "      <th></th>\n",
       "      <th>accu_end_time</th>\n",
       "      <th>accu_value</th>\n",
       "      <th>num</th>\n",
       "      <th>stno</th>\n",
       "      <th>stntype</th>\n",
       "      <th>typhoon_cht_name</th>\n",
       "      <th>typhoon_name</th>\n",
       "      <th>typhoon</th>\n",
       "      <th>day</th>\n",
       "    </tr>\n",
       "  </thead>\n",
       "  <tbody>\n",
       "  </tbody>\n",
       "</table>\n",
       "</div>"
      ],
      "text/plain": [
       "Empty DataFrame\n",
       "Columns: [accu_end_time, accu_value, num, stno, stntype, typhoon_cht_name, typhoon_name, typhoon, day]\n",
       "Index: []"
      ]
     },
     "execution_count": 23,
     "metadata": {},
     "output_type": "execute_result"
    }
   ],
   "source": [
    "#特別處理雙颱資料\n",
    "tp_rain.loc[(tp_rain.typhoon =='MERANTI') & (tp_rain.typhoon =='MALAKAS')]"
   ]
  },
  {
   "cell_type": "code",
   "execution_count": 25,
   "metadata": {},
   "outputs": [
    {
     "name": "stdout",
     "output_type": "stream",
     "text": [
      "65\n"
     ]
    }
   ],
   "source": [
    "#補植 1.兩處沒有記錄到降雨的觀測站 以及 沒有發生大雨警報的資料欄位\n",
    "df3 = pd.concat([ df2.iloc[:,0:55], df2.iloc[:,55:65].fillna(0)],axis=1)\n",
    "print len(df3.columns.values)"
   ]
  },
  {
   "cell_type": "code",
   "execution_count": 26,
   "metadata": {
    "collapsed": true
   },
   "outputs": [],
   "source": [
    "df3.to_csv(path +'df3.csv',encoding='utf-8',index=False)"
   ]
  },
  {
   "cell_type": "code",
   "execution_count": 27,
   "metadata": {
    "collapsed": true
   },
   "outputs": [],
   "source": [
    "#匯入颱風風力觀測站資料\n",
    "all_files = glob.glob(os.path.join(path+'typhoon_wind/','*.csv'))\n",
    "for file in all_files:\n",
    "    try:\n",
    "        pd.read_csv(file,encoding='big5',usecols=[0,1,2,3])\n",
    "    except:\n",
    "        print 'error at %s' %file\n",
    "\n",
    "tp_wind = pd.concat(pd.read_csv(file,encoding='big5') for file in all_files )"
   ]
  },
  {
   "cell_type": "code",
   "execution_count": 29,
   "metadata": {
    "collapsed": true
   },
   "outputs": [],
   "source": [
    "tp_wind['stno'] = tp_wind['stno'].astype('str')\n",
    "tp_wind['typhoon'] = tp_wind.typhoon_name.str[4:]\n",
    "tp_wind.ObsTime = pd.to_datetime(tp_wind.ObsTime)\n",
    "tp_wind['day'] = tp_wind.ObsTime.dt.day\n",
    "tp_wind.loc[tp_wind.typhoon =='MERANTI','typhoon'] = 'MERANTIANDMALAKAS'\n",
    "tp_wind.loc[tp_wind.typhoon =='MALAKAS','typhoon'] = 'MERANTIANDMALAKAS'\n",
    "tp_wind.loc[tp_wind.typhoon =='NESAT','typhoon'] = 'NESATANDHAITANG'\n",
    "tp_wind.loc[tp_wind.typhoon =='HAITANG','typhoon'] = 'NESATANDHAITANG'\n",
    "#刪除極端值(風速、風向為負值)\n",
    "#tp_wind.loc[tp_wind.WDMax <0 ,'WDMax'] = 0\n",
    "#tp_wind.loc[tp_wind.WDGust <0 ,'WDGust'] = 0\n",
    "tp_wind.loc[tp_wind.WSGust <0 ,'WSGust'] = 0\n",
    "tp_wind.loc[tp_wind.WSMax <0 ,'WSMax'] = 0"
   ]
  },
  {
   "cell_type": "code",
   "execution_count": 30,
   "metadata": {
    "collapsed": true
   },
   "outputs": [],
   "source": [
    "tp_wind.to_csv(path+'tp_wind.csv', encoding='utf-8', index=False)"
   ]
  },
  {
   "cell_type": "code",
   "execution_count": 32,
   "metadata": {
    "collapsed": true
   },
   "outputs": [],
   "source": [
    "#WDMax方向分群\n",
    "tp_wind.loc[(tp_wind.WDMax == 0) | (tp_wind.WDMax == 360),'wind_direction_max'] = 1\n",
    "tp_wind.loc[(tp_wind.WDMax > 0) & (tp_wind.WDMax < 45),'wind_direction_max'] = 2\n",
    "tp_wind.loc[tp_wind.WDMax == 45,'wind_direction_max'] = 3\n",
    "tp_wind.loc[(tp_wind.WDMax > 45) & (tp_wind.WDMax < 90),'wind_direction_max'] = 4\n",
    "tp_wind.loc[tp_wind.WDMax == 90,'wind_direction_max'] = 5\n",
    "tp_wind.loc[(tp_wind.WDMax > 90) & (tp_wind.WDMax < 135),'wind_direction_max'] = 6\n",
    "tp_wind.loc[tp_wind.WDMax == 135,'wind_direction_max'] = 7\n",
    "tp_wind.loc[(tp_wind.WDMax > 135) & (tp_wind.WDMax < 180),'wind_direction_max'] = 8\n",
    "tp_wind.loc[tp_wind.WDMax == 180,'wind_direction_max'] = 9\n",
    "tp_wind.loc[(tp_wind.WDMax > 180) & (tp_wind.WDMax < 225),'wind_direction_max'] = 10\n",
    "tp_wind.loc[tp_wind.WDMax == 225,'wind_direction_max'] = 11\n",
    "tp_wind.loc[(tp_wind.WDMax > 225) & (tp_wind.WDMax < 270),'wind_direction_max'] = 12\n",
    "tp_wind.loc[tp_wind.WDMax == 270,'wind_direction_max'] = 13\n",
    "tp_wind.loc[(tp_wind.WDMax > 270) & (tp_wind.WDMax < 315),'wind_direction_max'] = 14\n",
    "tp_wind.loc[tp_wind.WDMax == 315,'wind_direction_max'] = 15\n",
    "tp_wind.loc[(tp_wind.WDMax > 315) & (tp_wind.WDMax < 360),'wind_direction_max'] = 16\n",
    "#WDGust方向分群\n",
    "tp_wind.loc[(tp_wind.WDGust == 0) | (tp_wind.WDGust == 360),'wind_direction_gust'] = 1\n",
    "tp_wind.loc[(tp_wind.WDGust > 0) & (tp_wind.WDGust < 45),'wind_direction_gust'] = 2\n",
    "tp_wind.loc[tp_wind.WDGust == 45,'wind_direction_gust'] = 3\n",
    "tp_wind.loc[(tp_wind.WDGust > 45) & (tp_wind.WDGust < 90),'wind_direction_gust'] = 4\n",
    "tp_wind.loc[tp_wind.WDGust == 90,'wind_direction_gust'] = 5\n",
    "tp_wind.loc[(tp_wind.WDGust > 90) & (tp_wind.WDGust < 135),'wind_direction_gust'] = 6\n",
    "tp_wind.loc[tp_wind.WDGust == 135,'wind_direction_gust'] = 7\n",
    "tp_wind.loc[(tp_wind.WDGust > 135) & (tp_wind.WDGust < 180),'wind_direction_gust'] = 8\n",
    "tp_wind.loc[tp_wind.WDGust == 180,'wind_direction_gust'] = 9\n",
    "tp_wind.loc[(tp_wind.WDGust > 180) & (tp_wind.WDGust < 225),'wind_direction_gust'] = 10\n",
    "tp_wind.loc[tp_wind.WDGust == 225,'wind_direction_gust'] = 11\n",
    "tp_wind.loc[(tp_wind.WDGust > 225) & (tp_wind.WDGust < 270),'wind_direction_gust'] = 12\n",
    "tp_wind.loc[tp_wind.WDGust == 270,'wind_direction_gust'] = 13\n",
    "tp_wind.loc[(tp_wind.WDGust > 270) & (tp_wind.WDGust < 315),'wind_direction_gust'] = 14\n",
    "tp_wind.loc[tp_wind.WDGust == 315,'wind_direction_gust'] = 15\n",
    "tp_wind.loc[(tp_wind.WDGust > 315) & (tp_wind.WDGust < 360),'wind_direction_gust'] = 16"
   ]
  },
  {
   "cell_type": "code",
   "execution_count": 33,
   "metadata": {
    "collapsed": true
   },
   "outputs": [],
   "source": [
    "tp_wind['WSD_M'] = tp_wind.WSMax *tp_wind.wind_direction_max\n",
    "tp_wind['WSD_G'] = tp_wind.WSGust * tp_wind.wind_direction_gust"
   ]
  },
  {
   "cell_type": "code",
   "execution_count": 34,
   "metadata": {
    "collapsed": true
   },
   "outputs": [],
   "source": [
    "#平均每小時最大風速\n",
    "mean_hr_wsm = tp_wind.groupby(['typhoon','stno'], as_index=False).agg({'WSMax':'mean'})\n",
    "mean_hr_wsm.columns.values[2] = 'mean_hr_wsmax'\n",
    "#平均每小時瞬間極大風速\n",
    "mean_hr_wsg = tp_wind.groupby(['typhoon','stno'], as_index=False).agg({'WSGust':'mean'})\n",
    "mean_hr_wsg.columns.values[2] = 'mean_hr_wsgust'\n",
    "#最大小時風速\n",
    "max_hr_wsm = tp_wind.groupby(['typhoon','stno'], as_index=False).agg({'WSMax':'max'})\n",
    "max_hr_wsm.columns.values[2] = 'max_hr_wsmax'\n",
    "#最大小時瞬間極大風速\n",
    "max_hr_wsg = tp_wind.groupby(['typhoon','stno'], as_index=False).agg({'WSGust':'max'})\n",
    "max_hr_wsg.columns.values[2] = 'max_hr_wsgust'\n",
    "#測站測得颱風最大風速每小時達到烈風以上的總次數\n",
    "total_daily_sum_WSM = tp_wind.loc[tp_wind.WSMax >20.8,:].groupby(['typhoon','stno'], as_index=False).agg({'WSMax':'count'})\n",
    "total_daily_sum_WSM.columns.values[2] = 'total_daily_sum_WSMax'\n",
    "#測站測得颱風瞬間極大風速每小時達到烈風以上的總次數\n",
    "total_daily_sum_WSG =tp_wind.loc[tp_wind.WSGust >20.8,:].groupby(['typhoon','stno'], as_index=False).agg({'WSMax':'count'})\n",
    "total_daily_sum_WSG.columns.values[2] = 'total_daily_sum_WSGust'\n",
    "#觀測站每日平均風速達烈風以上的日數\n",
    "#最大風各風向總吹拂小時次數\n",
    "wind_direction_m = tp_wind.groupby(['typhoon','stno'], as_index=False).agg({'wind_direction_max':'count'})\n",
    "wind_direction_m.columns.values[2] = 'total_wind_direction_m'\n",
    "#極大風各風向總吹拂小時次數\n",
    "wind_direction_g = tp_wind.groupby(['typhoon','stno'], as_index=False).agg({'wind_direction_gust':'count'})\n",
    "wind_direction_g.columns.values[2] = 'total_wind_direction_g'\n",
    "#平均風向\n",
    "mean_wdm = tp_wind.groupby(['typhoon','stno'], as_index=False).agg({'WDMax':'mean'})\n",
    "mean_wdm.columns.values[2] = 'mean_wdmax'\n",
    "mean_wdg = tp_wind.groupby(['typhoon','stno'], as_index=False).agg({'WDGust':'mean'})\n",
    "mean_wdg.columns.values[2] = 'mean_wdgust'\n",
    "#交互作用\n",
    "sd1 = tp_wind.groupby(['typhoon','stno'], as_index=False).agg({'WSD_M':'mean'})\n",
    "sd1.columns.values[2] = 'mean_WSDmax'\n",
    "sd2 = tp_wind.groupby(['typhoon','stno'], as_index=False).agg({'WSD_M':'max'})\n",
    "sd2.columns.values[2] = 'max_WSDmax'\n",
    "sd3 = tp_wind.groupby(['typhoon','stno'], as_index=False).agg({'WSD_G':'mean'})\n",
    "sd3.columns.values[2] = 'mean_WSDgust'\n",
    "sd4 = tp_wind.groupby(['typhoon','stno'], as_index=False).agg({'WSD_G':'mean'})\n",
    "sd4.columns.values[2] = 'max_WSDgust'"
   ]
  },
  {
   "cell_type": "code",
   "execution_count": 35,
   "metadata": {
    "collapsed": true
   },
   "outputs": [],
   "source": [
    "df4 = pd.merge(df3, mean_hr_wsm, on=['stno','typhoon'],how ='left')\n",
    "df4 = pd.merge(df4, mean_hr_wsg, on=['stno','typhoon'],how ='left')\n",
    "df4 = pd.merge(df4, max_hr_wsm, on=['stno','typhoon'],how ='left')\n",
    "df4 = pd.merge(df4, max_hr_wsg, on=['stno','typhoon'],how ='left')\n",
    "df4 = pd.merge(df4, total_daily_sum_WSM, on=['stno','typhoon'],how ='left')\n",
    "df4 = pd.merge(df4, total_daily_sum_WSG, on=['stno','typhoon'],how ='left')\n",
    "df4 = pd.merge(df4, wind_direction_m, on=['stno','typhoon'],how ='left')\n",
    "df4 = pd.merge(df4, wind_direction_g, on=['stno','typhoon'],how ='left')\n",
    "df4 = pd.merge(df4, mean_wdm, on=['stno','typhoon'],how ='left')\n",
    "df4 = pd.merge(df4, mean_wdg, on=['stno','typhoon'],how ='left')\n",
    "df4 = pd.merge(df4, sd1, on=['stno','typhoon'],how ='left')\n",
    "df4 = pd.merge(df4, sd2, on=['stno','typhoon'],how ='left')\n",
    "df4 = pd.merge(df4, sd3, on=['stno','typhoon'],how ='left')\n",
    "df4 = pd.merge(df4, sd4, on=['stno','typhoon'],how ='left')"
   ]
  },
  {
   "cell_type": "code",
   "execution_count": 36,
   "metadata": {
    "collapsed": true
   },
   "outputs": [],
   "source": [
    "City_danger_river_num = pd.read_csv(path +'City_danger_river_num.csv')\n",
    "#City_danger_river_num.CityName = City_danger_river_num.CityName.str.encode=('utf-8')\n",
    "#print type(df5.CityName[1])\n",
    "#print type(City_danger_river_num.CityName[1])\n",
    "df4 = pd.merge(df4, City_danger_river_num, how='left', on='CityName')"
   ]
  },
  {
   "cell_type": "code",
   "execution_count": 37,
   "metadata": {
    "collapsed": true
   },
   "outputs": [],
   "source": [
    "#補值\n",
    "df5 = pd.concat([ df4.iloc[:,0:65], df4.iloc[:,65:].fillna(0)],axis=1)"
   ]
  },
  {
   "cell_type": "code",
   "execution_count": 39,
   "metadata": {
    "collapsed": true
   },
   "outputs": [],
   "source": [
    "#地區分組\n",
    "kmeans = KMeans(n_clusters=20, random_state=2017).fit(df5[['vil_lon','vil_lat']])\n",
    "df5['region_cluster'] = kmeans.predict(df5[['vil_lon','vil_lat']])"
   ]
  },
  {
   "cell_type": "code",
   "execution_count": 40,
   "metadata": {
    "collapsed": true
   },
   "outputs": [],
   "source": [
    "#颱風土石流警報\n",
    "landslide = pd.read_csv(path+'landslide_alert.csv' )\n",
    "landslide\n",
    "df5 = pd.merge(df5, landslide, how='left', on=['typhoon','year'])"
   ]
  },
  {
   "cell_type": "code",
   "execution_count": 41,
   "metadata": {
    "collapsed": true
   },
   "outputs": [],
   "source": [
    "df5.to_csv(path +'df4.csv',encoding='utf-8',index=False)"
   ]
  }
 ],
 "metadata": {
  "kernelspec": {
   "display_name": "Python 2",
   "language": "python",
   "name": "python2"
  },
  "language_info": {
   "codemirror_mode": {
    "name": "ipython",
    "version": 2
   },
   "file_extension": ".py",
   "mimetype": "text/x-python",
   "name": "python",
   "nbconvert_exporter": "python",
   "pygments_lexer": "ipython2",
   "version": "2.7.13"
  }
 },
 "nbformat": 4,
 "nbformat_minor": 2
}
