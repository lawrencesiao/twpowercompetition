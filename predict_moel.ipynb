{
 "cells": [
  {
   "cell_type": "code",
   "execution_count": 2,
   "metadata": {
    "collapsed": true
   },
   "outputs": [],
   "source": [
    "import numpy as np\n",
    "import pandas as pd\n",
    "import os\n",
    "import glob\n",
    "import xml.etree.ElementTree as ET\n",
    "from sklearn.ensemble import RandomForestRegressor"
   ]
  },
  {
   "cell_type": "code",
   "execution_count": 2,
   "metadata": {
    "collapsed": true
   },
   "outputs": [],
   "source": [
    "data_path = 'D:\\\\Users\\\\Qoo\\\\Desktop\\\\taipower\\\\data\\\\'"
   ]
  },
  {
   "cell_type": "code",
   "execution_count": 3,
   "metadata": {},
   "outputs": [],
   "source": [
    "df3 = pd.read_csv('df_1112.csv')"
   ]
  },
  {
   "cell_type": "code",
   "execution_count": 4,
   "metadata": {},
   "outputs": [
    {
     "name": "stdout",
     "output_type": "stream",
     "text": [
      "15702\n",
      "62808\n",
      "78510\n"
     ]
    }
   ],
   "source": [
    "\n",
    "#split data to train and test\n",
    "te = df3.loc[(df3.typhoon=='NESATANDHAITANG')|(df3.typhoon=='MEGI'),:]\n",
    "keep = list(set(df3.index) - set(te.index))\n",
    "tr = df3.iloc[keep,:]\n",
    "print len(te)\n",
    "print len(tr)\n",
    "print len(df3)\n"
   ]
  },
  {
   "cell_type": "code",
   "execution_count": 5,
   "metadata": {},
   "outputs": [
    {
     "data": {
      "text/plain": [
       "array(['CityName', 'TownName', 'VilName', 'VilCode', 'typhoon',\n",
       "       'elect_down', 'year', 'id', 'ch_name', 'en_name', 'type',\n",
       "       'magnitude', 'hpa', 'wind_speed', 'r7_km', 'r10_km', 'alert_level',\n",
       "       'arrive', 'leave', 'arrive_month', 'arrive_hour', 'arrive_weekday',\n",
       "       'arrive_week', 'duration', 'duration_h', 'pole_type_counts', 'p1',\n",
       "       'p2', 'p3', 'p4', 'p5', 'p6', 'p7', 'p8', 'p9', 'p10',\n",
       "       'pole_counts', 'double_kill', 'Minguo_year', 'location',\n",
       "       'people_total', 'area', 'population_density', 'VILLCODE',\n",
       "       'COUNTYNAME', 'TOWNNAME', 'VILLNAME', 'vil_lon', 'vil_lat', 'stno',\n",
       "       'stname', 'st_height', 'st_lon', 'st_lat', 'st_city',\n",
       "       'mean_accu_hour_rain', 'mean_accu_day_rain', 'accu_rain',\n",
       "       'heavy_rain_count_rule1', 'heavy_rain_count_rule2',\n",
       "       'how_rain_count_rule1', 'big_how_rain_count',\n",
       "       'big_big_how_rain_count', 'max_hour_accu_rain', 'max_day_accu_rain',\n",
       "       'mean_hr_wsmax', 'mean_hr_wsgust', 'max_hr_wsmax', 'max_hr_wsgust',\n",
       "       'region_cluster'], dtype=object)"
      ]
     },
     "execution_count": 5,
     "metadata": {},
     "output_type": "execute_result"
    }
   ],
   "source": [
    "df3.columns.values"
   ]
  },
  {
   "cell_type": "code",
   "execution_count": 6,
   "metadata": {},
   "outputs": [
    {
     "data": {
      "text/html": [
       "<div>\n",
       "<style>\n",
       "    .dataframe thead tr:only-child th {\n",
       "        text-align: right;\n",
       "    }\n",
       "\n",
       "    .dataframe thead th {\n",
       "        text-align: left;\n",
       "    }\n",
       "\n",
       "    .dataframe tbody tr th {\n",
       "        vertical-align: top;\n",
       "    }\n",
       "</style>\n",
       "<table border=\"1\" class=\"dataframe\">\n",
       "  <thead>\n",
       "    <tr style=\"text-align: right;\">\n",
       "      <th></th>\n",
       "      <th>mean_accu_hour_rain</th>\n",
       "      <th>mean_accu_day_rain</th>\n",
       "      <th>accu_rain</th>\n",
       "      <th>heavy_rain_count_rule1</th>\n",
       "      <th>heavy_rain_count_rule2</th>\n",
       "      <th>how_rain_count_rule1</th>\n",
       "      <th>big_how_rain_count</th>\n",
       "      <th>big_big_how_rain_count</th>\n",
       "    </tr>\n",
       "  </thead>\n",
       "  <tbody>\n",
       "    <tr>\n",
       "      <th>count</th>\n",
       "      <td>78510.000000</td>\n",
       "      <td>78510.000000</td>\n",
       "      <td>78510.000000</td>\n",
       "      <td>78510.000000</td>\n",
       "      <td>78510.000000</td>\n",
       "      <td>78510.000000</td>\n",
       "      <td>78510.000000</td>\n",
       "      <td>78510.0</td>\n",
       "    </tr>\n",
       "    <tr>\n",
       "      <th>mean</th>\n",
       "      <td>4.661934</td>\n",
       "      <td>46.118128</td>\n",
       "      <td>117.626841</td>\n",
       "      <td>0.555089</td>\n",
       "      <td>0.217284</td>\n",
       "      <td>0.102229</td>\n",
       "      <td>0.008891</td>\n",
       "      <td>0.0</td>\n",
       "    </tr>\n",
       "    <tr>\n",
       "      <th>std</th>\n",
       "      <td>3.697371</td>\n",
       "      <td>45.531359</td>\n",
       "      <td>110.722227</td>\n",
       "      <td>0.710187</td>\n",
       "      <td>0.600733</td>\n",
       "      <td>0.302951</td>\n",
       "      <td>0.093870</td>\n",
       "      <td>0.0</td>\n",
       "    </tr>\n",
       "    <tr>\n",
       "      <th>min</th>\n",
       "      <td>0.000000</td>\n",
       "      <td>0.000000</td>\n",
       "      <td>0.000000</td>\n",
       "      <td>0.000000</td>\n",
       "      <td>0.000000</td>\n",
       "      <td>0.000000</td>\n",
       "      <td>0.000000</td>\n",
       "      <td>0.0</td>\n",
       "    </tr>\n",
       "    <tr>\n",
       "      <th>25%</th>\n",
       "      <td>1.613636</td>\n",
       "      <td>9.250000</td>\n",
       "      <td>21.900000</td>\n",
       "      <td>0.000000</td>\n",
       "      <td>0.000000</td>\n",
       "      <td>0.000000</td>\n",
       "      <td>0.000000</td>\n",
       "      <td>0.0</td>\n",
       "    </tr>\n",
       "    <tr>\n",
       "      <th>50%</th>\n",
       "      <td>3.612500</td>\n",
       "      <td>32.500000</td>\n",
       "      <td>87.700000</td>\n",
       "      <td>0.000000</td>\n",
       "      <td>0.000000</td>\n",
       "      <td>0.000000</td>\n",
       "      <td>0.000000</td>\n",
       "      <td>0.0</td>\n",
       "    </tr>\n",
       "    <tr>\n",
       "      <th>75%</th>\n",
       "      <td>7.457143</td>\n",
       "      <td>72.500000</td>\n",
       "      <td>185.000000</td>\n",
       "      <td>1.000000</td>\n",
       "      <td>0.000000</td>\n",
       "      <td>0.000000</td>\n",
       "      <td>0.000000</td>\n",
       "      <td>0.0</td>\n",
       "    </tr>\n",
       "    <tr>\n",
       "      <th>max</th>\n",
       "      <td>21.543478</td>\n",
       "      <td>258.000000</td>\n",
       "      <td>618.600000</td>\n",
       "      <td>3.000000</td>\n",
       "      <td>5.000000</td>\n",
       "      <td>1.000000</td>\n",
       "      <td>1.000000</td>\n",
       "      <td>0.0</td>\n",
       "    </tr>\n",
       "  </tbody>\n",
       "</table>\n",
       "</div>"
      ],
      "text/plain": [
       "       mean_accu_hour_rain  mean_accu_day_rain     accu_rain  \\\n",
       "count         78510.000000        78510.000000  78510.000000   \n",
       "mean              4.661934           46.118128    117.626841   \n",
       "std               3.697371           45.531359    110.722227   \n",
       "min               0.000000            0.000000      0.000000   \n",
       "25%               1.613636            9.250000     21.900000   \n",
       "50%               3.612500           32.500000     87.700000   \n",
       "75%               7.457143           72.500000    185.000000   \n",
       "max              21.543478          258.000000    618.600000   \n",
       "\n",
       "       heavy_rain_count_rule1  heavy_rain_count_rule2  how_rain_count_rule1  \\\n",
       "count            78510.000000            78510.000000          78510.000000   \n",
       "mean                 0.555089                0.217284              0.102229   \n",
       "std                  0.710187                0.600733              0.302951   \n",
       "min                  0.000000                0.000000              0.000000   \n",
       "25%                  0.000000                0.000000              0.000000   \n",
       "50%                  0.000000                0.000000              0.000000   \n",
       "75%                  1.000000                0.000000              0.000000   \n",
       "max                  3.000000                5.000000              1.000000   \n",
       "\n",
       "       big_how_rain_count  big_big_how_rain_count  \n",
       "count        78510.000000                 78510.0  \n",
       "mean             0.008891                     0.0  \n",
       "std              0.093870                     0.0  \n",
       "min              0.000000                     0.0  \n",
       "25%              0.000000                     0.0  \n",
       "50%              0.000000                     0.0  \n",
       "75%              0.000000                     0.0  \n",
       "max              1.000000                     0.0  "
      ]
     },
     "execution_count": 6,
     "metadata": {},
     "output_type": "execute_result"
    }
   ],
   "source": [
    "df3.iloc[:,55:63].describe()"
   ]
  },
  {
   "cell_type": "code",
   "execution_count": 7,
   "metadata": {},
   "outputs": [
    {
     "name": "stdout",
     "output_type": "stream",
     "text": [
      "62808 62808\n",
      "7851 7851\n"
     ]
    }
   ],
   "source": [
    "\n",
    "var = ['year','type','magnitude','hpa','wind_speed','r7_km','r10_km','alert_level','arrive_month','arrive_hour',\n",
    "       'arrive_weekday','arrive_week','duration_h','pole_type_counts',\n",
    " 'p1', 'p2', 'p3','p4','p5','p6','p7','p8','p9', 'p10',\n",
    "       'pole_counts','double_kill', 'people_total','area','population_density',\n",
    "            'mean_accu_hour_rain', 'mean_accu_day_rain', 'accu_rain',\n",
    "       'heavy_rain_count_rule1', 'heavy_rain_count_rule2',\n",
    "       'how_rain_count_rule1', 'big_how_rain_count',\n",
    "       'big_big_how_rain_count','mean_hr_wsmax', 'mean_hr_wsgust', 'max_hr_wsmax', 'max_hr_wsgust',\n",
    "      'region_cluster']\n",
    "#'CityName','TownName','VilName','VilCode'\n",
    "tr_x = tr.loc[:,var]\n",
    "tr_y = tr.loc[:,'elect_down']\n",
    "te_N = te.loc[te.typhoon =='NESATANDHAITANG', var]\n",
    "te_M = te.loc[te.typhoon =='MEGI', var]\n",
    "print len(tr_x) , len(tr_y)\n",
    "print len(te_N) , len(te_M)\n"
   ]
  },
  {
   "cell_type": "code",
   "execution_count": 8,
   "metadata": {},
   "outputs": [
    {
     "name": "stdout",
     "output_type": "stream",
     "text": [
      "0.382144556301\n"
     ]
    }
   ],
   "source": [
    "\n",
    "regr = RandomForestRegressor(n_estimators=200, max_depth=10, random_state=2017, oob_score=True)\n",
    "regr.fit(tr_x, tr_y)\n",
    "print(regr.oob_score_)"
   ]
  },
  {
   "cell_type": "code",
   "execution_count": 9,
   "metadata": {},
   "outputs": [
    {
     "name": "stdout",
     "output_type": "stream",
     "text": [
      "7851\n",
      "7851\n"
     ]
    }
   ],
   "source": [
    "\n",
    "Nes = regr.predict(te_N)\n",
    "Meg = regr.predict(te_M)\n",
    "print len(Nes)\n",
    "print len(Meg)\n"
   ]
  },
  {
   "cell_type": "code",
   "execution_count": 10,
   "metadata": {
    "collapsed": true
   },
   "outputs": [],
   "source": [
    "test = pd.read_csv(data_path+ 'submit.csv')\n",
    "test.NesatAndHaitang = Nes\n",
    "test.Megi = Meg\n"
   ]
  },
  {
   "cell_type": "code",
   "execution_count": 11,
   "metadata": {
    "collapsed": true
   },
   "outputs": [],
   "source": [
    "test.to_csv(data_path+ 'sub.csv',index=False)"
   ]
  },
  {
   "cell_type": "code",
   "execution_count": null,
   "metadata": {
    "collapsed": true
   },
   "outputs": [],
   "source": []
  },
  {
   "cell_type": "code",
   "execution_count": null,
   "metadata": {
    "collapsed": true
   },
   "outputs": [],
   "source": []
  }
 ],
 "metadata": {
  "kernelspec": {
   "display_name": "Python 2",
   "language": "python",
   "name": "python2"
  },
  "language_info": {
   "codemirror_mode": {
    "name": "ipython",
    "version": 2
   },
   "file_extension": ".py",
   "mimetype": "text/x-python",
   "name": "python",
   "nbconvert_exporter": "python",
   "pygments_lexer": "ipython2",
   "version": "2.7.13"
  }
 },
 "nbformat": 4,
 "nbformat_minor": 2
}
